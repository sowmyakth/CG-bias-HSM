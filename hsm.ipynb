{
 "cells": [
  {
   "cell_type": "markdown",
   "metadata": {
    "collapsed": false
   },
   "source": [
    "## Measure bias from Color Gradient using moments\n",
    "- shape measurements bias of galaxy with CG with hsm package of galsim is high\n",
    "- we compare the values of galaxy with CG and effective galaxy(without CG, Semboloni2013)\n",
    "- hsm parametrs are almost identical, but ellipticity difer by almost 25%\n",
    "- input weight fn does not have an effect since adaptive moments are always used \n",
    "- m_CG ~ -0.024\n"
   ]
  },
  {
   "cell_type": "code",
   "execution_count": 1,
   "metadata": {
    "collapsed": false
   },
   "outputs": [
    {
     "name": "stderr",
     "output_type": "stream",
     "text": [
      "/opt/local/Library/Frameworks/Python.framework/Versions/2.7/lib/python2.7/site-packages/IPython/kernel/__init__.py:13: ShimWarning: The `IPython.kernel` package has been deprecated. You should import from ipykernel or jupyter_client instead.\n",
      "  \"You should import from ipykernel or jupyter_client instead.\", ShimWarning)\n"
     ]
    }
   ],
   "source": [
    "%matplotlib inline\n",
    "#%reset\n",
    "import galsim\n",
    "import matplotlib.pyplot as plt\n",
    "import numpy as np\n",
    "from chrom_objects import *\n",
    "import short_cut_fns as sc"
   ]
  },
  {
   "cell_type": "code",
   "execution_count": 3,
   "metadata": {
    "collapsed": false
   },
   "outputs": [],
   "source": [
    "# Read SED from galsim data\n",
    "# Flux density normalized to 1 at 550nm\n",
    "datapath = 'data/'\n",
    "SED_names = ['CWW_E_ext', 'CWW_Sbc_ext','CWW_Scd_ext', 'CWW_Im_ext']\n",
    "SEDs = {}\n",
    "for SED_name in SED_names:\n",
    "    SED_filename = datapath+'{}.sed'.format(SED_name)\n",
    "    SED = galsim.SED(SED_filename, wave_type='Ang')\n",
    "    SEDs[SED_name] = SED.withFluxDensity(target_flux_density=1.0, wavelength=550) \n",
    "    \n",
    "# euclid filetr used in Semboloni     \n",
    "eu_filter=galsim.Bandpass('euclid_sem.txt')#.thin(rel_err=1e-4)      \n",
    "red_SED=SEDs['CWW_E_ext']\n",
    "blue_SED=SEDs['CWW_Im_ext']"
   ]
  },
  {
   "cell_type": "code",
   "execution_count": 4,
   "metadata": {
    "collapsed": true
   },
   "outputs": [],
   "source": [
    "# function to create psf convolved with galaxy image\n",
    "def im_chr_test(gal,psf,im_param):\n",
    "    conv = galsim.Convolve([gal, psf])\n",
    "    gal_im=conv.drawImage(im_param.filt,image=im_param.draw_image())\n",
    "    return gal_im\n",
    "\n",
    "#class that stores image parameters \n",
    "class simple_image:\n",
    "    def __init__(self,\n",
    "                 I_size=[128,128], \n",
    "                 pixel_scale=None,\n",
    "                 method='auto',\n",
    "                 T_fn=None\n",
    "                ):\n",
    "        \"\"\"Class to store parametrs used to draw images\n",
    "        I_size     : Size of image; default=[128,128]\n",
    "        pixel_scale: Scale to draw the image, in arcsec/pixel;default lets galsim pick scale depending on Nyquist scale\n",
    "        method: \"\"\"\n",
    "        self.size=I_size\n",
    "        self.scale=pixel_scale\n",
    "        self.method=method\n",
    "        self.filt=T_fn\n",
    "    def draw_image(self):\n",
    "        return galsim.ImageF(self.size[0],self.size[1],scale=self.scale)"
   ]
  },
  {
   "cell_type": "code",
   "execution_count": 9,
   "metadata": {
    "collapsed": true
   },
   "outputs": [],
   "source": [
    "I_size=2**8              # Image size\n",
    "pixel_scale = 0.05      #pixel scale\n",
    "w1=0.102                  \n",
    "base_wavelength=800.\n",
    "B1_re_b=0.17              # bulge r_e\n",
    "B1_re_d=1.2               # disk r_e\n",
    "B1_n_b=1.5                # bulge serseic  n \n",
    "B1_n_d=1.                 # disk sersic n\n",
    "gal_flux=1e3              # galaxy flux\n",
    "alpha=1                   # wavelength dependance of psf\n",
    "sigma_800=w1              # psf sigma\n",
    "redshift=0.0               # redshift of SED\n",
    "t_b_flux=0.45               # bulge to total flux ratio"
   ]
  },
  {
   "cell_type": "code",
   "execution_count": 10,
   "metadata": {
    "collapsed": false
   },
   "outputs": [
    {
     "data": {
      "text/plain": [
       "'w=galsim.Gaussian(sigma=2)\\nimg = galsim.ImageF(I_size, I_size, scale=pixel_scale)\\nweight_fn=w.drawImage(image=img)\\n            #w1=weight_fn.flatten()\\n            #w1[w1<0]=0.\\n            #weight_fn=w1.reshape(I_size, I_size)\\nweight_fn.fill(1)'"
      ]
     },
     "execution_count": 10,
     "metadata": {},
     "output_type": "execute_result"
    }
   ],
   "source": [
    "'''w=galsim.Gaussian(sigma=2)\n",
    "img = galsim.ImageF(I_size, I_size, scale=pixel_scale)\n",
    "weight_fn=w.drawImage(image=img)\n",
    "            #w1=weight_fn.flatten()\n",
    "            #w1[w1<0]=0.\n",
    "            #weight_fn=w1.reshape(I_size, I_size)\n",
    "weight_fn.fill(1)'''"
   ]
  },
  {
   "cell_type": "code",
   "execution_count": 11,
   "metadata": {
    "collapsed": false
   },
   "outputs": [],
   "source": [
    "b_SED=red_SED.atRedshift(redshift)#.withFlux(bandpass=eu_filter,target_flux=1)\n",
    "d_SED=blue_SED.atRedshift(redshift)#.withFlux(bandpass=eu_filter,target_flux=1)\n",
    "c_SED=(t_b_flux*b_SED +((1-t_b_flux)*d_SED))\n",
    "#c_SED=b_SED\n",
    "#set image parametrs\n",
    "image_param=simple_image([I_size,I_size],pixel_scale,T_fn=eu_filter)\n",
    "\n",
    "# PSF\n",
    "psf=psf_chr(base_wavelength,alpha,sigma=sigma_800)\n",
    "star = (galsim.Gaussian(fwhm=1.0e-8,flux=1))*c_SED\n",
    "#draw psf image for shear estimation\n",
    "psf_im=im_chr_test(star,psf,image_param)\n",
    "#draw psf image to get effective psf\n",
    "conv1=galsim.Convolve([psf,star])\n",
    "#increase resolution when drawing\n",
    "image_param2=simple_image([I_size*4,I_size*4],pixel_scale/4,method='no_pixel',T_fn=eu_filter)\n",
    "psf_im_np=conv1.drawImage(eu_filter,method=image_param2.method,image=image_param2.draw_image())\n",
    "psf2=galsim.InterpolatedImage(psf_im_np)  \n",
    "\n",
    "#Galaxy  with CG  (_cg)\n",
    "galaxy_cg=gal_chr(B1_re_b,B1_re_d,B1_n_b,B1_n_d,gal_flux,t_b_flux,b_SED=b_SED,d_SED=d_SED)\n",
    "#galaxy_cg=gal_chr_gaus(B1_re_b,B1_re_d,gal_flux,t_b_flux,b_SED=b_SED,d_SED=d_SED)\n",
    "\n",
    "\n",
    "#Galxy without CG: effective _e   ### Deconvolved galaxy Semboloni\n",
    "#deconvolve effective psf with the psf convolved cg galaxy          \n",
    "inv_psf = galsim.Deconvolve(psf2)\n",
    "conv=galsim.Convolve([galaxy_cg,psf])\n",
    "deconv_gal = galsim.Convolve(inv_psf, conv)    \n",
    "deconv_img=deconv_gal.drawImage(eu_filter,image=image_param2.draw_image(),method=image_param2.method)\n",
    "galaxy_e=galsim.InterpolatedImage(deconv_img)*c_SED\n",
    "\n",
    "\n",
    "galaxy_cg=galaxy_cg.shear(g1=0.1,g2=0.1)\n",
    "galaxy_e=galaxy_e.shear(g1=0.1,g2=0.1)\n",
    "gal1_im=im_chr_test(galaxy_cg,psf,image_param)\n",
    "gal2_im=im_chr_test(galaxy_e,psf,image_param)\n",
    "new_params = galsim.hsm.HSMParams(max_moment_nsig2=10000,max_mom2_iter=1000000)\n",
    "result1  = galsim.hsm.EstimateShear(gal1_im,psf_im,shear_est='REGAUSS',\n",
    "                                    precision=8e-07,strict=True,\n",
    "                                    guess_x_centroid=127.,guess_y_centroid=127.,\n",
    "                                    #guess_centroid=galsim.PositionD(127.,127.)  # for later GalSim versions\n",
    "                                    guess_sig_gal=50.0, guess_sig_PSF=5,\n",
    "                                    hsmparams = new_params)\n",
    "result2  = galsim.hsm.EstimateShear(gal2_im,psf_im,shear_est='REGAUSS',\n",
    "                                    strict=True)#,weight=weight)"
   ]
  },
  {
   "cell_type": "code",
   "execution_count": 12,
   "metadata": {
    "collapsed": false
   },
   "outputs": [
    {
     "name": "stdout",
     "output_type": "stream",
     "text": [
      "Compare results for galaxy with CG and ; Galaxy with no CG\n",
      "corrected g,(CG,noCG) [0.09934064782784532, 0.09937870465710764] ; [0.10004194307411998, 0.10008079312474706]\n",
      "m_cg                  -0.00701001224811 ; -0.00701521686348\n",
      "observed g,(CG,noCG)  [0.05977183133220596, 0.059843864676213776] ; [0.06019338105538035, 0.0602662696081479]\n",
      "m_cg                  -0.00700325709876 ; -0.00700897757038\n",
      "moments sigma         0.170441424847 ; 0.170443069935\n",
      "amplitude             65800.3671875 ; 65797.9921875\n",
      "resolution(1 perfect) 0.716277420521 ; 0.716341793537\n",
      "no iterations         49 ; 49\n",
      "rho4                  2.3124761254 ; 2.3124761254\n"
     ]
    }
   ],
   "source": [
    "print('Compare results for galaxy with CG and ; Galaxy with no CG')\n",
    "a1=galsim.Shear(e1=result1.corrected_e1,e2=result1.corrected_e2)\n",
    "a2=galsim.Shear(e1=result2.corrected_e1,e2=result2.corrected_e2)\n",
    "print 'corrected g,(CG,noCG)', [a1.g1,a1.g2],';',[a2.g1,a2.g2]\n",
    "print 'm_cg                 ', a1.g1/a2.g1-1,';' ,a1.g2/a2.g2-1\n",
    "\n",
    "b1,b2=result1.observed_shape,result2.observed_shape\n",
    "\n",
    "print 'observed g,(CG,noCG) ', [b1.g1,b1.g2],';',[b2.g1,b2.g2]\n",
    "print 'm_cg                 ', b1.g1/b2.g1-1,';', b1.g2/b2.g2-1\n",
    "\n",
    "#sigma=d|et(M)|**1/4\n",
    "print 'moments sigma        ',result1.moments_sigma*pixel_scale,';',result2.moments_sigma*pixel_scale\n",
    "#amplitude~flux/2 \n",
    "print 'amplitude            ', result1.moments_amp,';',result2.moments_amp\n",
    "print 'resolution(1 perfect)',result1.resolution_factor,';',result2.resolution_factor\n",
    "print 'no iterations        ',result1.moments_n_iter,';',result1.moments_n_iter\n",
    "print 'rho4                 ',result1.moments_rho4,';',result1.moments_rho4     "
   ]
  },
  {
   "cell_type": "code",
   "execution_count": null,
   "metadata": {
    "collapsed": true
   },
   "outputs": [],
   "source": [
    "#variation of cg bias with pixel scale\n",
    "x=[-0.023405918665950876,-0.02421820937760355,-0.024381527085863164] #cg bias\n",
    "y=[0.1,0.05,0.025]           #pixel_scale size\n"
   ]
  },
  {
   "cell_type": "code",
   "execution_count": null,
   "metadata": {
    "collapsed": false
   },
   "outputs": [],
   "source": [
    "result1.moments_centroid # is correct for .FindAdaptiveMom()"
   ]
  },
  {
   "cell_type": "code",
   "execution_count": null,
   "metadata": {
    "collapsed": false
   },
   "outputs": [],
   "source": [
    "plt.plot(gal1_im.array[:][128],'r')\n",
    "plt.plot(gal2_im.array[:][128],'b')\n",
    "#plt.xlim([100,150])"
   ]
  },
  {
   "cell_type": "code",
   "execution_count": null,
   "metadata": {
    "collapsed": false
   },
   "outputs": [],
   "source": [
    "dif_im=np.array(gal1_im.array)-np.array(gal2_im.array)\n",
    "plt.imshow(gal2_im.array,origin='lower')\n",
    "plt.colorbar()\n",
    "print('flux',gal1_im.array.sum(),gal2_im.array.sum())\n",
    "plt.title('Gal_CG - Gal_e')\n"
   ]
  },
  {
   "cell_type": "code",
   "execution_count": null,
   "metadata": {
    "collapsed": true
   },
   "outputs": [],
   "source": [
    "a=gal1_im.FindAdaptiveMom()\n",
    "b=gal2_im.FindAdaptiveMom()"
   ]
  },
  {
   "cell_type": "code",
   "execution_count": null,
   "metadata": {
    "collapsed": false
   },
   "outputs": [],
   "source": [
    "a.moments_sigma*pixel_scale,b.moments_sigma*pixel_scale"
   ]
  },
  {
   "cell_type": "code",
   "execution_count": null,
   "metadata": {
    "collapsed": false
   },
   "outputs": [],
   "source": [
    "a.observed_shape,b.observed_shape"
   ]
  },
  {
   "cell_type": "code",
   "execution_count": null,
   "metadata": {
    "collapsed": false
   },
   "outputs": [],
   "source": [
    "a.observed_shape.g1/b.observed_shape.g1-1"
   ]
  },
  {
   "cell_type": "code",
   "execution_count": null,
   "metadata": {
    "collapsed": false
   },
   "outputs": [],
   "source": [
    "a.moments_amp,b.moments_amp"
   ]
  },
  {
   "cell_type": "code",
   "execution_count": null,
   "metadata": {
    "collapsed": false
   },
   "outputs": [],
   "source": [
    "psf_im.array.sum()"
   ]
  },
  {
   "cell_type": "code",
   "execution_count": null,
   "metadata": {
    "collapsed": false
   },
   "outputs": [],
   "source": []
  },
  {
   "cell_type": "code",
   "execution_count": null,
   "metadata": {
    "collapsed": true
   },
   "outputs": [],
   "source": []
  }
 ],
 "metadata": {
  "kernelspec": {
   "display_name": "Python 2",
   "language": "python",
   "name": "python2"
  },
  "language_info": {
   "codemirror_mode": {
    "name": "ipython",
    "version": 2
   },
   "file_extension": ".py",
   "mimetype": "text/x-python",
   "name": "python",
   "nbconvert_exporter": "python",
   "pygments_lexer": "ipython2",
   "version": "2.7.10"
  }
 },
 "nbformat": 4,
 "nbformat_minor": 0
}
