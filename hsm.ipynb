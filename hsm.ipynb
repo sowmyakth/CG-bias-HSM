{
 "cells": [
  {
   "cell_type": "markdown",
   "metadata": {
    "collapsed": false
   },
   "source": [
    "## Measure bias from Color Gradient using moments\n",
    "- shape measurements bias of galaxy with CG with hsm package of galsim is high\n",
    "- we compare the values of galaxy with CG and effective galaxy(without CG, Semboloni2013)\n",
    "- hsm parametrs are almost identical, but ellipticity difer by almost 25%\n",
    "- input weight fn does not have an effect since adaptive moments are always used \n",
    "- m_CG ~ -0.024\n"
   ]
  },
  {
   "cell_type": "code",
   "execution_count": 189,
   "metadata": {
    "collapsed": false
   },
   "outputs": [],
   "source": [
    "%matplotlib inline\n",
    "#%reset\n",
    "import galsim\n",
    "import matplotlib.pyplot as plt\n",
    "import numpy as np\n",
    "from chrom_objects import *\n",
    "import short_cut_fns as sc"
   ]
  },
  {
   "cell_type": "code",
   "execution_count": 193,
   "metadata": {
    "collapsed": false
   },
   "outputs": [
    {
     "name": "stdout",
     "output_type": "stream",
     "text": [
      "Euclid filter.ipynb                hsm.ipynb\r\n",
      "README.md                          mom measure.ipynb\r\n",
      "Sem simplified-Copy1.ipynb         short_cut_fns.py\r\n",
      "Sem simplified.ipynb               short_cut_fns.pyc\r\n",
      "Sem-Copy1.ipynb                    simple exercise_final-Copy1.ipynb\r\n",
      "Sem.ipynb                          simple exercise_final.ipynb\r\n",
      "Untitled.ipynb                     simple_blue_SED.txt\r\n",
      "chrom_objects.py                   simple_filter.txt\r\n",
      "chrom_objects.pyc                  simple_red_SED.txt\r\n",
      "\u001b[34mdata\u001b[m\u001b[m/                              whole_filter.txt\r\n",
      "euclid_sem.txt\r\n"
     ]
    }
   ],
   "source": [
    "ls\n"
   ]
  },
  {
   "cell_type": "code",
   "execution_count": 194,
   "metadata": {
    "collapsed": false
   },
   "outputs": [],
   "source": [
    "# Read SED from galsim data\n",
    "# Flux density normalized to 1 at 550nm\n",
    "datapath = 'data/'\n",
    "SED_names = ['CWW_E_ext', 'CWW_Sbc_ext','CWW_Scd_ext', 'CWW_Im_ext']\n",
    "SEDs = {}\n",
    "for SED_name in SED_names:\n",
    "    SED_filename = datapath+'{}.sed'.format(SED_name)\n",
    "    SED = galsim.SED(SED_filename, wave_type='Ang')\n",
    "    SEDs[SED_name] = SED.withFluxDensity(target_flux_density=1.0, wavelength=550) \n",
    "    \n",
    "# euclid filetr used in Semboloni     \n",
    "eu_filter=galsim.Bandpass('euclid_sem.txt').thin(rel_err=1e-4)      \n",
    "red_SED=SEDs['CWW_E_ext']\n",
    "blue_SED=SEDs['CWW_Im_ext']"
   ]
  },
  {
   "cell_type": "code",
   "execution_count": 102,
   "metadata": {
    "collapsed": true
   },
   "outputs": [],
   "source": [
    "# function to create psf convolved with galaxy image\n",
    "def im_chr_test(gal,psf,im_param):\n",
    "    conv = galsim.Convolve([gal, psf])\n",
    "    gal_im=conv.drawImage(im_param.filt,image=im_param.draw_image())\n",
    "    return gal_im\n",
    "\n",
    "#class that stores image parameters \n",
    "class simple_image:\n",
    "    def __init__(self,\n",
    "                 I_size=[128,128], \n",
    "                 pixel_scale=None,\n",
    "                 method='auto',\n",
    "                 T_fn=None\n",
    "                ):\n",
    "        \"\"\"Class to store parametrs used to draw images\n",
    "        I_size     : Size of image; default=[128,128]\n",
    "        pixel_scale: Scale to draw the image, in arcsec/pixel;default lets galsim pick scale depending on Nyquist scale\n",
    "        method: \"\"\"\n",
    "        self.size=I_size\n",
    "        self.scale=pixel_scale\n",
    "        self.method=method\n",
    "        self.filt=T_fn\n",
    "    def draw_image(self):\n",
    "        return galsim.ImageF(self.size[0],self.size[1],scale=self.scale)"
   ]
  },
  {
   "cell_type": "code",
   "execution_count": 204,
   "metadata": {
    "collapsed": true
   },
   "outputs": [],
   "source": [
    "I_size=2**8              # Image size\n",
    "pixel_scale = 0.05      #pixel scale\n",
    "w1=0.102                  \n",
    "base_wavelength=800.\n",
    "B1_re_b=0.17              # bulge r_e\n",
    "B1_re_d=1.2               # disk r_e\n",
    "B1_n_b=1.5                # bulge serseic  n \n",
    "B1_n_d=1.                 # disk sersic n\n",
    "gal_flux=1e3              # galaxy flux\n",
    "alpha=1                   # wavelength dependance of psf\n",
    "sigma_800=w1              # psf sigma\n",
    "redshift=0.3               # redshift of SED\n",
    "t_b_flux=0.45               # bulge to total flux ratio"
   ]
  },
  {
   "cell_type": "code",
   "execution_count": 205,
   "metadata": {
    "collapsed": false
   },
   "outputs": [
    {
     "data": {
      "text/plain": [
       "'w=galsim.Gaussian(sigma=2)\\nimg = galsim.ImageF(I_size, I_size, scale=pixel_scale)\\nweight_fn=w.drawImage(image=img)\\n            #w1=weight_fn.flatten()\\n            #w1[w1<0]=0.\\n            #weight_fn=w1.reshape(I_size, I_size)\\nweight_fn.fill(1)'"
      ]
     },
     "execution_count": 205,
     "metadata": {},
     "output_type": "execute_result"
    }
   ],
   "source": [
    "'''w=galsim.Gaussian(sigma=2)\n",
    "img = galsim.ImageF(I_size, I_size, scale=pixel_scale)\n",
    "weight_fn=w.drawImage(image=img)\n",
    "            #w1=weight_fn.flatten()\n",
    "            #w1[w1<0]=0.\n",
    "            #weight_fn=w1.reshape(I_size, I_size)\n",
    "weight_fn.fill(1)'''"
   ]
  },
  {
   "cell_type": "code",
   "execution_count": 206,
   "metadata": {
    "collapsed": false
   },
   "outputs": [],
   "source": [
    "b_SED=red_SED.atRedshift(redshift)#.withFlux(bandpass=eu_filter,target_flux=1)\n",
    "d_SED=blue_SED.atRedshift(redshift)#.withFlux(bandpass=eu_filter,target_flux=1)\n",
    "c_SED=(t_b_flux*b_SED +((1-t_b_flux)*d_SED))\n",
    "#c_SED=b_SED\n",
    "#set image parametrs\n",
    "image_param=simple_image([I_size,I_size],pixel_scale,T_fn=eu_filter)\n",
    "\n",
    "# PSF\n",
    "psf=psf_chr(base_wavelength,alpha,sigma=sigma_800)\n",
    "star = (galsim.Gaussian(fwhm=1.0e-8,flux=1))*c_SED\n",
    "#draw psf image for shear estimation\n",
    "psf_im=im_chr_test(star,psf,image_param)\n",
    "#draw psf image to get effective psf\n",
    "conv1=galsim.Convolve([psf,star])\n",
    "#increase resolution when drawing\n",
    "image_param2=simple_image([I_size*4,I_size*4],pixel_scale/4,method='no_pixel',T_fn=eu_filter)\n",
    "psf_im_np=conv1.drawImage(eu_filter,method=image_param2.method,image=image_param2.draw_image())\n",
    "psf2=galsim.InterpolatedImage(psf_im_np)  \n",
    "\n",
    "#Galaxy  with CG  (_cg)\n",
    "galaxy_cg=gal_chr(B1_re_b,B1_re_d,B1_n_b,B1_n_d,gal_flux,t_b_flux,b_SED=b_SED,d_SED=d_SED)\n",
    "#galaxy_cg=gal_chr_gaus(B1_re_b,B1_re_d,gal_flux,t_b_flux,b_SED=b_SED,d_SED=d_SED)\n",
    "\n",
    "\n",
    "#Galxy without CG: effective _e   ### Deconvolved galaxy Semboloni\n",
    "#deconvolve effective psf with the psf convolved cg galaxy          \n",
    "inv_psf = galsim.Deconvolve(psf2)\n",
    "conv=galsim.Convolve([galaxy_cg,psf])\n",
    "deconv_gal = galsim.Convolve(inv_psf, conv)    \n",
    "deconv_img=deconv_gal.drawImage(eu_filter,image=image_param2.draw_image(),method=image_param2.method)\n",
    "galaxy_e=galsim.InterpolatedImage(deconv_img)*c_SED\n",
    "\n",
    "\n",
    "galaxy_cg=galaxy_cg.shear(g1=0.01,g2=0.01)\n",
    "galaxy_e=galaxy_e.shear(g1=0.01,g2=0.01)\n",
    "gal1_im=im_chr_test(galaxy_cg,psf,image_param)\n",
    "gal2_im=im_chr_test(galaxy_e,psf,image_param)\n",
    "new_params = galsim.hsm.HSMParams(max_moment_nsig2=10000,max_mom2_iter=1000000)\n",
    "result1  = galsim.hsm.EstimateShear(gal1_im,psf_im,shear_est='REGAUSS',\n",
    "                                    precision=8e-07,strict=True,\n",
    "                                    guess_x_centroid=127.,guess_y_centroid=127.,\n",
                                         #guess_centroid=galsim.PositionD(127.,127.)    # for later galsim versions
    "                                    guess_sig_gal=50.0, guess_sig_PSF=5,\n",
    "                                    hsmparams = new_params)\n",
    "result2  = galsim.hsm.EstimateShear(gal2_im,psf_im,shear_est='REGAUSS',\n",
    "                                    strict=True)#,weight=weight)"
   ]
  },
  {
   "cell_type": "code",
   "execution_count": 208,
   "metadata": {
    "collapsed": false
   },
   "outputs": [
    {
     "name": "stdout",
     "output_type": "stream",
     "text": [
      "Compare results for galaxy with CG and ; Galaxy with no CG\n",
      "corrected g,(CG,noCG) [0.009745276381804663, 0.009748666108602822] ; [0.009987147203873007, 0.00999120019707824]\n",
      "m_cg                  -0.0242182093776 ; -0.0242747701669\n",
      "observed g,(CG,noCG)  [0.0060120835452805495, 0.0060183128724771] ; [0.0061603471927202565, 0.006166745985294064]\n",
      "m_cg                  -0.0240674174363 ; -0.0240699249119\n",
      "moments sigma         0.176950216293 ; 0.176949119568\n",
      "amplitude             54554.4921875 ; 54551.8359375\n",
      "resolution(1 perfect) 0.73181116581 ; 0.731809854507\n",
      "no iterations         49 ; 49\n",
      "rho4                  2.34722640901 ; 2.34722640901\n"
     ]
    }
   ],
   "source": [
    "print('Compare results for galaxy with CG and ; Galaxy with no CG')\n",
    "a1=galsim.Shear(e1=result1.corrected_e1,e2=result1.corrected_e2)\n",
    "a2=galsim.Shear(e1=result2.corrected_e1,e2=result2.corrected_e2)\n",
    "print 'corrected g,(CG,noCG)', [a1.g1,a1.g2],';',[a2.g1,a2.g2]\n",
    "print 'm_cg                 ', a1.g1/a2.g1-1,';' ,a1.g2/a2.g2-1\n",
    "\n",
    "b1,b2=result1.observed_shape,result2.observed_shape\n",
    "\n",
    "print 'observed g,(CG,noCG) ', [b1.g1,b1.g2],';',[b2.g1,b2.g2]\n",
    "print 'm_cg                 ', b1.g1/b2.g1-1,';', b1.g2/b2.g2-1\n",
    "\n",
    "#sigma=d|et(M)|**1/4\n",
    "print 'moments sigma        ',result1.moments_sigma*pixel_scale,';',result2.moments_sigma*pixel_scale\n",
    "#amplitude~flux/2 \n",
    "print 'amplitude            ', result1.moments_amp,';',result2.moments_amp\n",
    "print 'resolution(1 perfect)',result1.resolution_factor,';',result2.resolution_factor\n",
    "print 'no iterations        ',result1.moments_n_iter,';',result1.moments_n_iter\n",
    "print 'rho4                 ',result1.moments_rho4,';',result1.moments_rho4     "
   ]
  },
  {
   "cell_type": "code",
   "execution_count": 200,
   "metadata": {
    "collapsed": true
   },
   "outputs": [],
   "source": [
    "#variation of cg bias with pixel scale\n",
    "x=[-0.023405918665950876,-0.02421820937760355,-0.024381527085863164] #cg bias\n",
    "y=[0.1,0.05,0.025]           #pixel_scale size\n"
   ]
  },
  {
   "cell_type": "code",
   "execution_count": 209,
   "metadata": {
    "collapsed": false
   },
   "outputs": [
    {
     "data": {
      "text/plain": [
       "PositionD(x=0.0, y=0.0)"
      ]
     },
     "execution_count": 209,
     "metadata": {},
     "output_type": "execute_result"
    }
   ],
   "source": [
    "result1.moments_centroid # is correct for .FindAdaptiveMom()"
   ]
  },
  {
   "cell_type": "code",
   "execution_count": 210,
   "metadata": {
    "collapsed": false
   },
   "outputs": [
    {
     "data": {
      "text/plain": [
       "[<matplotlib.lines.Line2D at 0x110e1db90>]"
      ]
     },
     "execution_count": 210,
     "metadata": {},
     "output_type": "execute_result"
    },
    {
     "data": {
      "image/png": "iVBORw0KGgoAAAANSUhEUgAAAXsAAAEACAYAAABS29YJAAAABHNCSVQICAgIfAhkiAAAAAlwSFlz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\nUNiLiCwCCnsRkUVAYS8isgj8f9SQDB7JD6SpAAAAAElFTkSuQmCC\n",
      "text/plain": [
       "<matplotlib.figure.Figure at 0x110e1dfd0>"
      ]
     },
     "metadata": {},
     "output_type": "display_data"
    }
   ],
   "source": [
    "plt.plot(gal1_im.array[:][128],'r')\n",
    "plt.plot(gal2_im.array[:][128],'b')\n",
    "#plt.xlim([100,150])"
   ]
  },
  {
   "cell_type": "code",
   "execution_count": 211,
   "metadata": {
    "collapsed": false
   },
   "outputs": [
    {
     "name": "stdout",
     "output_type": "stream",
     "text": [
      "('flux', 101253.73, 101253.73)\n"
     ]
    },
    {
     "data": {
      "text/plain": [
       "<matplotlib.text.Text at 0x1114d9790>"
      ]
     },
     "execution_count": 211,
     "metadata": {},
     "output_type": "execute_result"
    },
    {
     "data": {
      "image/png": "iVBORw0KGgoAAAANSUhEUgAAAUAAAAEKCAYAAABjU4ygAAAABHNCSVQICAgIfAhkiAAAAAlwSFlz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\npPEAAAAASUVORK5CYII=\n",
      "text/plain": [
       "<matplotlib.figure.Figure at 0x110fdac50>"
      ]
     },
     "metadata": {},
     "output_type": "display_data"
    }
   ],
   "source": [
    "dif_im=np.array(gal1_im.array)-np.array(gal2_im.array)\n",
    "plt.imshow(dif_im)\n",
    "plt.colorbar()\n",
    "print('flux',gal1_im.array.sum(),gal2_im.array.sum())\n",
    "plt.title('Gal_CG - Gal_e')\n"
   ]
  },
  {
   "cell_type": "code",
   "execution_count": 212,
   "metadata": {
    "collapsed": true
   },
   "outputs": [],
   "source": [
    "a=gal1_im.FindAdaptiveMom()\n",
    "b=gal2_im.FindAdaptiveMom()"
   ]
  },
  {
   "cell_type": "code",
   "execution_count": 213,
   "metadata": {
    "collapsed": false
   },
   "outputs": [
    {
     "data": {
      "text/plain": [
       "(0.1786238193511963, 0.17862389087677003)"
      ]
     },
     "execution_count": 213,
     "metadata": {},
     "output_type": "execute_result"
    }
   ],
   "source": [
    "a.moments_sigma*pixel_scale,b.moments_sigma*pixel_scale"
   ]
  },
  {
   "cell_type": "code",
   "execution_count": 214,
   "metadata": {
    "collapsed": false
   },
   "outputs": [
    {
     "data": {
      "text/plain": [
       "(Shear(g1=0.00601203907333, g2=0.00601825039318),\n",
       " Shear(g1=0.00616034719272, g2=0.00616674598529))"
      ]
     },
     "execution_count": 214,
     "metadata": {},
     "output_type": "execute_result"
    }
   ],
   "source": [
    "a.observed_shape,b.observed_shape"
   ]
  },
  {
   "cell_type": "code",
   "execution_count": 215,
   "metadata": {
    "collapsed": false
   },
   "outputs": [
    {
     "data": {
      "text/plain": [
       "-0.02407463650153563"
      ]
     },
     "execution_count": 215,
     "metadata": {},
     "output_type": "execute_result"
    }
   ],
   "source": [
    "a.observed_shape.g1/b.observed_shape.g1-1"
   ]
  },
  {
   "cell_type": "code",
   "execution_count": 216,
   "metadata": {
    "collapsed": false
   },
   "outputs": [
    {
     "data": {
      "text/plain": [
       "(46483.91796875, 46483.95703125)"
      ]
     },
     "execution_count": 216,
     "metadata": {},
     "output_type": "execute_result"
    }
   ],
   "source": [
    "a.moments_amp,b.moments_amp"
   ]
  },
  {
   "cell_type": "code",
   "execution_count": 217,
   "metadata": {
    "collapsed": false
   },
   "outputs": [
    {
     "data": {
      "text/plain": [
       "101.2586"
      ]
     },
     "execution_count": 217,
     "metadata": {},
     "output_type": "execute_result"
    }
   ],
   "source": [
    "psf_im.array.sum()"
   ]
  },
  {
   "cell_type": "code",
   "execution_count": 218,
   "metadata": {
    "collapsed": false
   },
   "outputs": [
    {
     "data": {
      "text/plain": [
       "8071"
      ]
     },
     "execution_count": 218,
     "metadata": {},
     "output_type": "execute_result"
    }
   ],
   "source": []
  },
  {
   "cell_type": "code",
   "execution_count": null,
   "metadata": {
    "collapsed": true
   },
   "outputs": [],
   "source": []
  }
 ],
 "metadata": {
  "kernelspec": {
   "display_name": "Python 2",
   "language": "python",
   "name": "python2"
  },
  "language_info": {
   "codemirror_mode": {
    "name": "ipython",
    "version": 2
   },
   "file_extension": ".py",
   "mimetype": "text/x-python",
   "name": "python",
   "nbconvert_exporter": "python",
   "pygments_lexer": "ipython2",
   "version": "2.7.10"
  }
 },
 "nbformat": 4,
 "nbformat_minor": 0
}
