{
 "cells": [
  {
   "cell_type": "code",
   "execution_count": 288,
   "metadata": {
    "collapsed": false
   },
   "outputs": [],
   "source": [
    "%matplotlib inline\n",
    "#%reset\n",
    "import galsim\n",
    "import matplotlib.pyplot as plt\n",
    "import numpy as np\n",
    "from chrom_objects import *\n",
    "import short_cut_fns as sc"
   ]
  },
  {
   "cell_type": "code",
   "execution_count": 289,
   "metadata": {
    "collapsed": false
   },
   "outputs": [],
   "source": [
    "# Read SED from galsim data\n",
    "# Flux density normalized to 1 at 550nm\n",
    "datapath = '/Users/choyma/temp/Galsim/examples/data/'\n",
    "SED_names = ['CWW_E_ext', 'CWW_Sbc_ext','CWW_Scd_ext', 'CWW_Im_ext']\n",
    "SEDs = {}\n",
    "for SED_name in SED_names:\n",
    "    SED_filename = datapath+'{}.sed'.format(SED_name)\n",
    "    SED = galsim.SED(SED_filename, wave_type='Ang')\n",
    "    SEDs[SED_name] = SED.withFluxDensity(target_flux_density=1.0, wavelength=550) \n",
    "    \n",
    "# euclid filetr used in Semboloni     \n",
    "eu_filter=galsim.Bandpass('euclid_sem.txt').thin(rel_err=1e-4)      \n",
    "red_SED=SEDs['CWW_E_ext']\n",
    "blue_SED=SEDs['CWW_Im_ext']"
   ]
  },
  {
   "cell_type": "code",
   "execution_count": 290,
   "metadata": {
    "collapsed": true
   },
   "outputs": [],
   "source": [
    "# function to creat osf convolved with galaxy image\n",
    "def im_chr_test(gal,psf,im_param):\n",
    "    conv = galsim.Convolve([gal, psf])\n",
    "    gal_im=conv.drawImage(im_param.filt,image=im_param.draw_image())\n",
    "    return gal_im\n",
    "\n",
    "#class that stores image parameters\n",
    "class simple_image:\n",
    "    def __init__(self,\n",
    "                 I_size=[128,128], \n",
    "                 pixel_scale=None,\n",
    "                 method='auto',\n",
    "                 T_fn=None\n",
    "                ):\n",
    "        \"\"\"Class to store parametrs used to draw images\n",
    "        I_size     : Size of image; default=[128,128]\n",
    "        pixel_scale: Scale to draw the image, in arcsec/pixel;default lets galsim pick scale depending on Nyquist scale\n",
    "        method: \"\"\"\n",
    "        self.size=I_size\n",
    "        self.scale=pixel_scale\n",
    "        self.method=method\n",
    "        self.filt=T_fn\n",
    "    def draw_image(self):\n",
    "        return galsim.ImageF(self.size[0],self.size[1],scale=self.scale)"
   ]
  },
  {
   "cell_type": "code",
   "execution_count": 291,
   "metadata": {
    "collapsed": true
   },
   "outputs": [],
   "source": [
    "I_size=2**8              # Image size\n",
    "pixel_scale = 0.05       #pixel scale\n",
    "w1=0.102                  \n",
    "base_wavelength=800.\n",
    "B1_re_b=0.17              # bulge r_e\n",
    "B1_re_d=1.2               # disk r_e\n",
    "B1_n_b=1.5                # bulge serseic  n \n",
    "B1_n_d=1.                 # disk sersic n\n",
    "gal_flux=1e3              # galaxy flux\n",
    "alpha=1                   # wavelength dependance of psf\n",
    "sigma_800=w1              # psf sigma\n",
    "redshift=0.3               # redshift of SED\n",
    "t_b_flux=0.45               # bulge to total flux ratio"
   ]
  },
  {
   "cell_type": "code",
   "execution_count": 292,
   "metadata": {
    "collapsed": false
   },
   "outputs": [],
   "source": [
    "# Set bulge disk and composite SED\n",
    "b_SED=red_SED.atRedshift(redshift)#.withFlux(bandpass=eu_filter,target_flux=1)\n",
    "d_SED=blue_SED.atRedshift(redshift)#.withFlux(bandpass=eu_filter,target_flux=1)\n",
    "c_SED=(t_b_flux*b_SED +((1-t_b_flux)*d_SED))\n",
    "\n",
    "#set image parametrs\n",
    "image_param=simple_image([I_size,I_size],pixel_scale,T_fn=eu_filter)\n",
    "\n",
    "# PSF\n",
    "psf=psf_chr(base_wavelength,alpha,sigma=sigma_800)\n",
    "star = (galsim.Gaussian(fwhm=1.0e-8,flux=1))*c_SED\n",
    "#draw psf image for shear estimation\n",
    "psf_im=im_chr_test(star,psf,image_param)"
   ]
  },
  {
   "cell_type": "code",
   "execution_count": 293,
   "metadata": {
    "collapsed": false
   },
   "outputs": [
    {
     "data": {
      "text/plain": [
       "'w=galsim.Gaussian(sigma=2)\\nimg = galsim.ImageF(I_size, I_size, scale=pixel_scale)\\nweight_fn=w.drawImage(image=img)\\n            #w1=weight_fn.flatten()\\n            #w1[w1<0]=0.\\n            #weight_fn=w1.reshape(I_size, I_size)\\nweight_fn.fill(1)'"
      ]
     },
     "execution_count": 293,
     "metadata": {},
     "output_type": "execute_result"
    }
   ],
   "source": [
    "'''w=galsim.Gaussian(sigma=2)\n",
    "img = galsim.ImageF(I_size, I_size, scale=pixel_scale)\n",
    "weight_fn=w.drawImage(image=img)\n",
    "            #w1=weight_fn.flatten()\n",
    "            #w1[w1<0]=0.\n",
    "            #weight_fn=w1.reshape(I_size, I_size)\n",
    "weight_fn.fill(1)'''"
   ]
  },
  {
   "cell_type": "code",
   "execution_count": 333,
   "metadata": {
    "collapsed": false
   },
   "outputs": [],
   "source": [
    "b_SED=red_SED.atRedshift(redshift)#.withFlux(bandpass=eu_filter,target_flux=1)\n",
    "d_SED=blue_SED.atRedshift(redshift)#.withFlux(bandpass=eu_filter,target_flux=1)\n",
    "c_SED=(t_b_flux*b_SED +((1-t_b_flux)*d_SED))\n",
    "\n",
    "#set image parametrs\n",
    "image_param=simple_image([I_size,I_size],pixel_scale,T_fn=eu_filter)\n",
    "\n",
    "# PSF\n",
    "psf=psf_chr(base_wavelength,alpha,sigma=sigma_800)\n",
    "star = (galsim.Gaussian(fwhm=1.0e-8,flux=1))*c_SED\n",
    "#draw psf image for shear estimation\n",
    "psf_im=im_chr_test(star,psf,image_param)\n",
    "#draw psf image to get effective psf\n",
    "conv1=galsim.Convolve([psf,star])\n",
    "#increase resolution when drawing\n",
    "image_param2=simple_image([I_size*4,I_size*4],pixel_scale/4,method='no_pixel',T_fn=eu_filter)\n",
    "psf_im_np=conv1.drawImage(eu_filter,method=image_param2.method,image=image_param2.draw_image())\n",
    "psf2=galsim.InterpolatedImage(psf_im_np)  \n",
    "\n",
    "#Galaxy  with CG  (_cg)\n",
    "galaxy_cg=gal_chr(B1_re_b,B1_re_d,B1_n_b,B1_n_d,gal_flux,t_b_flux,b_SED=b_SED,d_SED=d_SED)\n",
    "\n",
    "#Galxy without CG: effective _e   ### Deconvolved galaxy Semboloni\n",
    "#deconvolve effective psf with the psf convolved cg galaxy          \n",
    "inv_psf = galsim.Deconvolve(psf2)\n",
    "conv=galsim.Convolve([galaxy_cg,psf])\n",
    "deconv_gal = galsim.Convolve(inv_psf, conv)    \n",
    "deconv_img=deconv_gal.drawImage(eu_filter,image=image_param2.draw_image(),method=image_param2.method)\n",
    "galaxy_e=galsim.InterpolatedImage(deconv_img)*c_SED\n",
    "\n",
    "\n",
    "galaxy_cg=galaxy_cg.shear(g1=0.01,g2=0.01)\n",
    "galaxy_e=galaxy_e.shear(g1=0.01,g2=0.01)\n",
    "gal1_im=im_chr_test(galaxy_cg,psf,image_param)\n",
    "gal2_im=im_chr_test(galaxy_e,psf,image_param)\n",
    "new_params = galsim.hsm.HSMParams(max_moment_nsig2=100,max_mom2_iter=1000000)\n",
    "result1  = galsim.hsm.EstimateShear(gal1_im,psf_im,shear_est='LINEAR',\n",
    "                                    precision=8e-07,strict=True,\n",
    "                                    guess_x_centroid=127.,guess_y_centroid=127.,\n",
    "                                    guess_sig_gal=50.0, guess_sig_PSF=5,\n",
    "                                    hsmparams = new_params)\n",
    "result2  = galsim.hsm.EstimateShear(gal2_im,psf_im,shear_est='LINEAR',strict=True)#,weight=weight)"
   ]
  },
  {
   "cell_type": "code",
   "execution_count": 334,
   "metadata": {
    "collapsed": false
   },
   "outputs": [
    {
     "data": {
      "text/plain": [
       "(0.009836242930001939,\n",
       " 0.00984643636706293,\n",
       " 0.010078188114227192,\n",
       " 0.010088658308656481)"
      ]
     },
     "execution_count": 334,
     "metadata": {},
     "output_type": "execute_result"
    }
   ],
   "source": [
    "a1=galsim.Shear(e1=result1.corrected_e1,e2=result1.corrected_e2)\n",
    "a2=galsim.Shear(e1=result2.corrected_e1,e2=result2.corrected_e2)\n",
    "a1.g1,a1.g2,a2.g1,a2.g2"
   ]
  },
  {
   "cell_type": "code",
   "execution_count": 335,
   "metadata": {
    "collapsed": false
   },
   "outputs": [
    {
     "data": {
      "text/plain": [
       "-0.024006813673551508"
      ]
     },
     "execution_count": 335,
     "metadata": {},
     "output_type": "execute_result"
    }
   ],
   "source": [
    "a1.g1/a2.g1-1"
   ]
  },
  {
   "cell_type": "code",
   "execution_count": 320,
   "metadata": {
    "collapsed": false
   },
   "outputs": [
    {
     "data": {
      "text/plain": [
       "(0.17694904804229739, 0.1769491195678711)"
      ]
     },
     "execution_count": 320,
     "metadata": {},
     "output_type": "execute_result"
    }
   ],
   "source": [
    "result1.moments_sigma*pixel_scale,result2.moments_sigma*pixel_scale"
   ]
  },
  {
   "cell_type": "code",
   "execution_count": 321,
   "metadata": {
    "collapsed": false
   },
   "outputs": [
    {
     "data": {
      "text/plain": [
       "(54551.8125, 54551.8359375)"
      ]
     },
     "execution_count": 321,
     "metadata": {},
     "output_type": "execute_result"
    }
   ],
   "source": [
    "result1.moments_amp,result2.moments_amp"
   ]
  },
  {
   "cell_type": "code",
   "execution_count": 322,
   "metadata": {
    "collapsed": false
   },
   "outputs": [
    {
     "data": {
      "text/plain": [
       "PositionD(x=0.0, y=0.0)"
      ]
     },
     "execution_count": 322,
     "metadata": {},
     "output_type": "execute_result"
    }
   ],
   "source": [
    "result1.moments_centroid"
   ]
  },
  {
   "cell_type": "code",
   "execution_count": 300,
   "metadata": {
    "collapsed": false
   },
   "outputs": [
    {
     "data": {
      "text/plain": [
       "(0.7318076491355896, 0.7318098545074463)"
      ]
     },
     "execution_count": 300,
     "metadata": {},
     "output_type": "execute_result"
    }
   ],
   "source": [
    "result1.resolution_factor,result2.resolution_factor"
   ]
  },
  {
   "cell_type": "code",
   "execution_count": 336,
   "metadata": {
    "collapsed": false
   },
   "outputs": [
    {
     "data": {
      "text/plain": [
       "(49, 49)"
      ]
     },
     "execution_count": 336,
     "metadata": {},
     "output_type": "execute_result"
    }
   ],
   "source": [
    "result1.moments_n_iter,result1.moments_n_iter"
   ]
  },
  {
   "cell_type": "code",
   "execution_count": 301,
   "metadata": {
    "collapsed": false
   },
   "outputs": [
    {
     "data": {
      "text/plain": [
       "[<matplotlib.lines.Line2D at 0x119b669d0>]"
      ]
     },
     "execution_count": 301,
     "metadata": {},
     "output_type": "execute_result"
    },
    {
     "data": {
      "image/png": "[encoded data removed]",
      "text/plain": [
       "<matplotlib.figure.Figure at 0x119b66810>"
      ]
     },
     "metadata": {},
     "output_type": "display_data"
    }
   ],
   "source": [
    "plt.plot(gal1_im.array[:][128],'r')\n",
    "plt.plot(gal2_im.array[:][128],'b')\n",
    "#plt.xlim([100,150])"
   ]
  },
  {
   "cell_type": "code",
   "execution_count": 302,
   "metadata": {
    "collapsed": false
   },
   "outputs": [
    {
     "name": "stdout",
     "output_type": "stream",
     "text": [
      "('flux', 101253.73, 101253.73)\n"
     ]
    },
    {
     "data": {
      "image/png": "[encoded data removed]",
      "text/plain": [
       "<matplotlib.figure.Figure at 0x119b66150>"
      ]
     },
     "metadata": {},
     "output_type": "display_data"
    }
   ],
   "source": [
    "plt.imshow(np.array(gal1_im.array)-np.array(gal2_im.array))\n",
    "plt.colorbar()\n",
    "print('flux',gal1_im.array.sum(),gal2_im.array.sum())"
   ]
  },
  {
   "cell_type": "code",
   "execution_count": 303,
   "metadata": {
    "collapsed": true
   },
   "outputs": [],
   "source": [
    "a=gal1_im.FindAdaptiveMom()\n",
    "b=gal2_im.FindAdaptiveMom()"
   ]
  },
  {
   "cell_type": "code",
   "execution_count": 304,
   "metadata": {
    "collapsed": false
   },
   "outputs": [
    {
     "data": {
      "text/plain": [
       "(0.1786238193511963, 0.17862389087677003)"
      ]
     },
     "execution_count": 304,
     "metadata": {},
     "output_type": "execute_result"
    }
   ],
   "source": [
    "a.moments_sigma*pixel_scale,b.moments_sigma*pixel_scale"
   ]
  },
  {
   "cell_type": "code",
   "execution_count": 305,
   "metadata": {
    "collapsed": false
   },
   "outputs": [
    {
     "data": {
      "text/plain": [
       "(Shear(g1=0.00601203907333, g2=0.00601825039318),\n",
       " Shear(g1=0.00616034719272, g2=0.00616674598529))"
      ]
     },
     "execution_count": 305,
     "metadata": {},
     "output_type": "execute_result"
    }
   ],
   "source": [
    "a.observed_shape,b.observed_shape"
   ]
  },
  {
   "cell_type": "code",
   "execution_count": 306,
   "metadata": {
    "collapsed": false
   },
   "outputs": [
    {
     "data": {
      "text/plain": [
       "-0.02407463650153563"
      ]
     },
     "execution_count": 306,
     "metadata": {},
     "output_type": "execute_result"
    }
   ],
   "source": [
    "a.observed_shape.g1/b.observed_shape.g1-1"
   ]
  },
  {
   "cell_type": "code",
   "execution_count": 307,
   "metadata": {
    "collapsed": false
   },
   "outputs": [
    {
     "data": {
      "text/plain": [
       "(46483.91796875, 46483.95703125)"
      ]
     },
     "execution_count": 307,
     "metadata": {},
     "output_type": "execute_result"
    }
   ],
   "source": [
    "a.moments_amp,b.moments_amp"
   ]
  },
  {
   "cell_type": "code",
   "execution_count": null,
   "metadata": {
    "collapsed": true
   },
   "outputs": [],
   "source": []
  }
 ],
 "metadata": {
  "kernelspec": {
   "display_name": "Python 2",
   "language": "python",
   "name": "python2"
  },
  "language_info": {
   "codemirror_mode": {
    "name": "ipython",
    "version": 2
   },
   "file_extension": ".py",
   "mimetype": "text/x-python",
   "name": "python",
   "nbconvert_exporter": "python",
   "pygments_lexer": "ipython2",
   "version": "2.7.10"
  }
 },
 "nbformat": 4,
 "nbformat_minor": 0
}
