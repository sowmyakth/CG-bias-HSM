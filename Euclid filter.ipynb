{
 "cells": [
  {
   "cell_type": "code",
   "execution_count": 1,
   "metadata": {
    "collapsed": true
   },
   "outputs": [],
   "source": [
    "import numpy as np\n",
    "import matplotlib.pyplot as plt\n",
    "%matplotlib inline\n"
   ]
  },
  {
   "cell_type": "markdown",
   "metadata": {},
   "source": [
    " Euclid spectral resolution 250\n",
    "    bandwidth 550-900nm"
   ]
  },
  {
   "cell_type": "code",
   "execution_count": 4,
   "metadata": {
    "collapsed": false
   },
   "outputs": [],
   "source": [
    "x1=np.linspace(550,750,200)\n",
    "x2=np.linspace(749,850,100)\n",
    "x3=np.linspace(851,900,50)\n",
    "y1=np.ones(len(x1))*0.3\n",
    "y2=-3e-4*x2+0.525\n",
    "y3=-1.6e-3*x3+1.629\n",
    "x=np.hstack([x1,x2,x3])\n",
    "y=np.hstack([y1,y2,y3])"
   ]
  },
  {
   "cell_type": "code",
   "execution_count": 5,
   "metadata": {
    "collapsed": false
   },
   "outputs": [
    {
     "data": {
      "text/plain": [
       "(400, 1000)"
      ]
     },
     "execution_count": 5,
     "metadata": {},
     "output_type": "execute_result"
    },
    {
     "data": {
      "image/png": "[encoded data removed]",
      "text/plain": [
       "<matplotlib.figure.Figure at 0x1126d1750>"
      ]
     },
     "metadata": {},
     "output_type": "display_data"
    }
   ],
   "source": [
    "plt.plot(np.hstack([549,x,901]),np.hstack([0,y,0]))\n",
    "plt.ylim([0,0.5])\n",
    "plt.xlim([400,1000])"
   ]
  },
  {
   "cell_type": "code",
   "execution_count": 6,
   "metadata": {
    "collapsed": false
   },
   "outputs": [],
   "source": [
    "#np.savetxt('euclid_sem.txt',np.c_[x,y])"
   ]
  },
  {
   "cell_type": "markdown",
   "metadata": {},
   "source": [
    "### Create simple blue and red SED"
   ]
  },
  {
   "cell_type": "code",
   "execution_count": 3,
   "metadata": {
    "collapsed": false
   },
   "outputs": [],
   "source": [
    "x1=np.linspace(500,700,200)\n",
    "x2=np.linspace(100,1100,500)\n",
    "#x3=np.linspace(700,900,100)\n",
    "y1=np.ones(len(x1))\n",
    "y2=np.ones(150)\n",
    "y3=np.ones(100)"
   ]
  },
  {
   "cell_type": "code",
   "execution_count": 4,
   "metadata": {
    "collapsed": false
   },
   "outputs": [],
   "source": [
    "y_b=np.hstack([np.ones(100)*1e-6,y2,np.ones(250)*0.0001])\n",
    "y_r=np.hstack([np.ones(250)*1e-6,y2,np.ones(100)*0.0001])"
   ]
  },
  {
   "cell_type": "code",
   "execution_count": 5,
   "metadata": {
    "collapsed": false
   },
   "outputs": [
    {
     "data": {
      "text/plain": [
       "(500, 500, 500)"
      ]
     },
     "execution_count": 5,
     "metadata": {},
     "output_type": "execute_result"
    }
   ],
   "source": [
    "len(y_b),len(y_r),len(x2)"
   ]
  },
  {
   "cell_type": "code",
   "execution_count": 5,
   "metadata": {
    "collapsed": false
   },
   "outputs": [
    {
     "data": {
      "image/png": "[encoded data removed]",
      "text/plain": [
       "<matplotlib.figure.Figure at 0x10bea21d0>"
      ]
     },
     "metadata": {},
     "output_type": "display_data"
    }
   ],
   "source": [
    "plt.plot(x2,y_b,'--b',label='Disc')\n",
    "plt.plot(x2,y_r,'--r',label='Bulge')\n",
    "plt.plot(np.hstack([499,x1,701]),np.hstack([0,y1,0]),'-k',label='Filter')\n",
    "plt.xlim([10,1200])\n",
    "plt.ylim([0,1.1])\n",
    "plt.ylabel('SED (erg/nm)')\n",
    "plt.xlabel('Wavlength (nm)')\n",
    "plt.legend(bbox_to_anchor=(1.05, 1), loc=2, borderaxespad=0.)\n",
    "plt.savefig('simple filter.png',bbox_inches='tight')"
   ]
  },
  {
   "cell_type": "code",
   "execution_count": 7,
   "metadata": {
    "collapsed": false
   },
   "outputs": [
    {
     "data": {
      "text/plain": [
       "[<matplotlib.lines.Line2D at 0x113a71a90>]"
      ]
     },
     "execution_count": 7,
     "metadata": {},
     "output_type": "execute_result"
    },
    {
     "data": {
      "image/png": "[encoded data removed]",
      "text/plain": [
       "<matplotlib.figure.Figure at 0x113a71650>"
      ]
     },
     "metadata": {},
     "output_type": "display_data"
    }
   ],
   "source": [
    "plt.plot(x1,y1)"
   ]
  },
  {
   "cell_type": "code",
   "execution_count": 9,
   "metadata": {
    "collapsed": false
   },
   "outputs": [],
   "source": [
    "np.savetxt('simple_filter.txt',np.c_[x1,y1])\n",
    "np.savetxt('simple_blue_SED.txt',np.c_[x2,y_b])\n",
    "np.savetxt('simple_red_SED.txt',np.c_[x2,y_r])\n",
    "np.savetxt('whole_filter.txt',np.c_[x2,np.ones(len(x2))])"
   ]
  },
  {
   "cell_type": "code",
   "execution_count": null,
   "metadata": {
    "collapsed": true
   },
   "outputs": [],
   "source": []
  }
 ],
 "metadata": {
  "kernelspec": {
   "display_name": "Python 2",
   "language": "python",
   "name": "python2"
  },
  "language_info": {
   "codemirror_mode": {
    "name": "ipython",
    "version": 2
   },
   "file_extension": ".py",
   "mimetype": "text/x-python",
   "name": "python",
   "nbconvert_exporter": "python",
   "pygments_lexer": "ipython2",
   "version": "2.7.10"
  }
 },
 "nbformat": 4,
 "nbformat_minor": 0
}
