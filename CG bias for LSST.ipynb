{
 "cells": [
  {
   "cell_type": "code",
   "execution_count": 44,
   "metadata": {
    "collapsed": false
   },
   "outputs": [],
   "source": [
    "\"Reproduce voigt 2012 results\"\n",
    "import galsim\n",
    "import numpy as np\n",
    "from astropy.utils.console import ProgressBar\n",
    "import matplotlib.pyplot as plt\n",
    "%matplotlib inline\n",
    "from lmfit import minimize, Minimizer,Parameters, Parameter, report_fit, report_errors,fit_report"
   ]
  },
  {
   "cell_type": "code",
   "execution_count": 45,
   "metadata": {
    "collapsed": true
   },
   "outputs": [],
   "source": [
    "def make_Euclid_filter(res=1.0):\n",
    "    \"\"\" Make a Euclid-like filter (eye-balling Semboloni++13).\n",
    "    @param res  Resolution in nanometers.\n",
    "    @returns    galsim.Bandpass object.\n",
    "    \"\"\"\n",
    "    x = [550.0, 750.0, 850.0, 900.0]\n",
    "    y = [0.3, 0.3, 0.275, 0.2]\n",
    "    tab = galsim.LookupTable(x, y, interpolant='linear')\n",
    "    w = np.arange(550.0, 900.01, res)\n",
    "    return galsim.Bandpass(galsim.LookupTable(w, tab(w), interpolant='linear'))"
   ]
  },
  {
   "cell_type": "code",
   "execution_count": 46,
   "metadata": {
    "collapsed": true
   },
   "outputs": [],
   "source": [
    "def get_LSST_filter():\n",
    "    datapath = 'data/'\n",
    "    filter_names ='ugrizy'  \n",
    "    filters={}\n",
    "    for filter_name in filter_names:\n",
    "        filter_filename = datapath+'LSST_{}.dat'.format(filter_name)\n",
    "        filters[filter_name] = galsim.Bandpass(filter_filename)\n",
    "        filters[filter_name] = filters[filter_name].thin(rel_err=1e-4)  \n",
    "    return filters"
   ]
  },
  {
   "cell_type": "code",
   "execution_count": 47,
   "metadata": {
    "collapsed": true
   },
   "outputs": [],
   "source": [
    "def get_SEDs(args):\n",
    "    \"\"\" Return obs-frame bulge, disk and composite SEDs given command line arguments.\n",
    "    @param args          A command line argument object with the following attributes:\n",
    "        args.disk_SED    One of ['Sbc', 'Scd', 'Im', 'E'] to indicate disk SED.\n",
    "        args.redshift    Redshift of galaxy (both bulge and disk)\n",
    "        args.bulge_frac  Fraction of flux in bulge component at 550 nm rest-frame.\n",
    "    @returns  bulge_SED, disk_SED, composite_SED.\n",
    "    \"\"\"\n",
    "    pth='data/'\n",
    "    b_SED = galsim.SED(pth+\"CWW_E_ext.sed\", wave_type='Ang')\n",
    "    d_SED = galsim.SED(pth+\"CWW_{}_ext.sed\".format(args.disk_SED), wave_type='Ang')\n",
    "    # Scale SEDs to 1.0, which means we must scale spatial component elsewhere to make\n",
    "    # args.bulge_frac true in images.\n",
    "    b_SED = b_SED.withFluxDensity(1.0, 550.0).atRedshift(args.redshift)\n",
    "    d_SED = d_SED.withFluxDensity(1.0, 550.0).atRedshift(args.redshift)\n",
    "    c_SED = b_SED * args.bulge_frac + d_SED * (1. - args.bulge_frac)\n",
    "\n",
    "    return b_SED, d_SED, c_SED\n",
    "\n"
   ]
  },
  {
   "cell_type": "code",
   "execution_count": 48,
   "metadata": {
    "collapsed": true
   },
   "outputs": [],
   "source": [
    "\n",
    "def get_PSF(args):\n",
    "    \"\"\" Return a Euclid-like chromatic PSF.\n",
    "    @param args       A command line argument object with the following attributes:\n",
    "        args.sig550   Gaussian width (sigma) of PSF at 550 nm.\n",
    "        args.alpha    PSF wavelength scaling exponent.  1.0 for diffraction limit,\n",
    "                      -0.2 for Kolmogorov turbulence.\n",
    "    @returns  Euclid chromatic PSF.\n",
    "    \"\"\"\n",
    "    mono_PSF = galsim.Gaussian(fwhm=args.fwhm550)\n",
    "    chr_PSF = galsim.ChromaticObject(mono_PSF).dilate(lambda w: (w/550.0)**args.alpha)\n",
    "    return chr_PSF"
   ]
  },
  {
   "cell_type": "code",
   "execution_count": 49,
   "metadata": {
    "collapsed": false
   },
   "outputs": [],
   "source": []
  },
  {
   "cell_type": "code",
   "execution_count": 70,
   "metadata": {
    "collapsed": true
   },
   "outputs": [],
   "source": [
    "def get_gal_nocg(args, gal_cg, chr_PSF):\n",
    "    \"\"\" Construct galaxy surface brightness profile with no color gradients that yields the same\n",
    "    image as a given galaxy surface brightness profile with color gradients.\n",
    "\n",
    "    @param args     A command line argument object with the following attributes:\n",
    "        args.npix   Number of pixels across square postage stamp image.\n",
    "        args.scale  Pixel scale for postage stamp image.\n",
    "        args.bp     GalSIm Bandpass describing filter.\n",
    "    @param gal_cg   GalSim GSObject describing galaxy chromatic s.b. profile.\n",
    "    @param chr_PSF  GalSim ChromaticObject describing PSF.\n",
    "    @returns        GalSim ChromaticObject of color-gradient-free galaxy.\n",
    "    \"\"\"\n",
    "    psf_eff_img = (chr_PSF*args.c_SED).drawImage(args.bp, nx=args.npix*4.0, ny=args.npix*4.0,\n",
    "                                    scale=args.scale/4.0, method='no_pixel')\n",
    "    psf_eff = galsim.InterpolatedImage(psf_eff_img, calculate_stepk=False, calculate_maxk=False)\n",
    "    gal_cg_eff_img = (galsim.Convolve(gal_cg,chr_PSF)).drawImage(args.bp, nx=args.npix*4.0, ny=args.npix*4.0,\n",
    "                                    scale=args.scale/4.0, method='no_pixel')\n",
    "    gal_cg_eff = galsim.InterpolatedImage(gal_cg_eff_img, calculate_stepk=False, calculate_maxk=False)\n",
    "    gal_nocg = galsim.Convolve(gal_cg_eff, galsim.Deconvolve(psf_eff))\n",
    "    return gal_nocg*args.c_SED\n",
    "\n",
    "\n",
    "def get_gal_cg(args):\n",
    "    bulge=(galsim.Sersic(n=args.bulge_n, half_light_radius=args.bulge_HLR,flux=args.T_flux*args.bulge_frac).shear(e1=args.bulge_e))\n",
    "    disk=(galsim.Sersic(n=args.disk_n, half_light_radius=args.disk_HLR,flux=args.T_flux*(1-args.bulge_frac)).shear(e1=args.disk_e))\n",
    "    gal=(bulge * args.b_SED)+(disk*args.d_SED)\n",
    "    return gal\n",
    "def get_gal_cg(args):\n",
    "    bulge=(galsim.Sersic(n=args.bulge_n, half_light_radius=args.bulge_HLR,flux=args.T_flux).shear(e1=args.bulge_e))\n",
    "    disk=(galsim.Sersic(n=args.disk_n, half_light_radius=args.disk_HLR,flux=args.T_flux).shear(e1=args.disk_e))\n",
    "    gal=(bulge*args.bulge_frac * args.b_SED)+(disk*(1-args.bulge_frac)*args.d_SED)\n",
    "    return gal\n",
    "             \n",
    "\n",
    "\n"
   ]
  },
  {
   "cell_type": "code",
   "execution_count": 71,
   "metadata": {
    "collapsed": false
   },
   "outputs": [],
   "source": [
    "def get_moments(array):\n",
    "    \"\"\" Compute second central moments of an array.\n",
    "    @param array\n",
    "    @returns Qxx, Qyy, Qxy second central moments of array.\n",
    "    \"\"\"\n",
    "    nx, ny = array.shape\n",
    "    x, y = np.meshgrid(np.arange(nx), np.arange(ny))\n",
    "    denom = np.sum(array)\n",
    "    xbar = np.sum(array*x)/denom\n",
    "    ybar = np.sum(array*y)/denom\n",
    "    Qxx = np.sum(array*(x-xbar)**2)/denom\n",
    "    Qyy = np.sum(array*(y-ybar)**2)/denom\n",
    "    Qxy = np.sum(array*(x-xbar)*(y-ybar))/denom\n",
    "    return Qxx, Qyy, Qxy\n",
    "\n",
    "\n",
    "\n"
   ]
  },
  {
   "cell_type": "code",
   "execution_count": 84,
   "metadata": {
    "collapsed": true
   },
   "outputs": [],
   "source": [
    "def estimate_shape(args, gal_img, PSF_img, method):\n",
    "    \"\"\" Estimate the shape (ellipticity) of a galaxy.\n",
    "\n",
    "    @param args     A command line argument object with the following attributes:\n",
    "        args.sig_w  Width (sigma) of Gaussian weight function\n",
    "        args.npix   Number of pixels across postage stamp image\n",
    "        args.scale  Pixel scale of postage stamp image\n",
    "    @param gal_img  A GalSim Image of the PSF-convolved galaxy\n",
    "    @param PSF_img  A GalSim Image of the PSF\n",
    "    @param method   Method to use to estimate shape.  One of:\n",
    "        'S13'  Use Semboloni++13 observed second moments method (no PSF correction!)\n",
    "        'REGAUSS', 'LINEAR', 'BJ', 'KSB'  Use GalSim.hsm module\n",
    "    @returns galsim.Shear object holding galaxy ellipticity.\n",
    "    \"\"\"\n",
    "    if method == 'S13':\n",
    "        weight = galsim.Gaussian(sigma=args.hlr_w)\n",
    "        weight_img = weight.drawImage(nx=args.npix, ny=args.npix, scale=args.scale)#,\n",
    "                                      #method='no_pixel')\n",
    "        Qxx, Qyy, Qxy = get_moments(weight_img.array * gal_img.array)\n",
    "        R = Qxx + Qyy\n",
    "        e1 = (Qxx-Qyy)/R\n",
    "        e2 = 2*Qxy/R\n",
    "        shape = galsim.Shear(e1=e1, e2=e2)\n",
    "    elif method in ['REGAUSS', 'LINEAR', 'BJ']:\n",
    "        result = galsim.hsm.EstimateShear(gal_img, PSF_img, shear_est=method)\n",
    "        shape = galsim.Shear(e1=result.corrected_e1, e2=result.corrected_e2)\n",
    "    elif method == 'KSB':\n",
    "        result = galsim.hsm.EstimateShear(gal_img, PSF_img, shear_est=method)\n",
    "        shape = galsim.Shear(g1=result.corrected_g1, g2=result.corrected_g2)\n",
    "    elif method == 'fit':\n",
    "        params=param_in(args)\n",
    "        data=(gal_img.array).flatten()\n",
    "        fit_kws={'maxfev':1000,'ftol':1.49012e-38,'xtol':1.49012e-38,}\n",
    "        chr_psf=get_PSF(args)\n",
    "        result=minimize(fcn2min,params,args=(data,args,chr_psf),**fit_kws)\n",
    "        print result.chisqr\n",
    "        shape=galsim.Shear(g1=params['g1'].value,g2=params['g2'].value)\n",
    "        #print result.chi-square\n",
    "\n",
    "    return shape\n",
    "\n"
   ]
  },
  {
   "cell_type": "code",
   "execution_count": 154,
   "metadata": {
    "collapsed": false
   },
   "outputs": [],
   "source": [
    "def cg_ring_test(args, gal_cg, gal_nocg, chr_PSF):\n",
    "    \"\"\" Use a ring test to estimate multiplicative bias due to color-gradients.\n",
    "\n",
    "    @param args         A command line argument object with the following attributes:\n",
    "        args.npix       Number of pixels across postage stamp image\n",
    "        args.scale      Pixel scale of postage stamp image\n",
    "        args.n_ring     Number of intrinsic ellipticity pairs around ring.\n",
    "        args.shear_est  Method to use to estimate shape.  See `estimate_shape` docstring.\n",
    "        args.sig_w      For S13 method, the width (sigma) of the Gaussian weight funcion.\n",
    "    @returns  Multiplicate bias estimate.\n",
    "    \"\"\"\n",
    "    PSF_img = chr_PSF.drawImage(args.bp, nx=args.npix, ny=args.npix, scale=args.scale)\n",
    "    n = len(args.rt_g) * args.n_ring * 2\n",
    "    ghat_cg = []\n",
    "    ghat_nocg = []\n",
    "    with ProgressBar(n) as bar:\n",
    "        for g1, g2 in args.rt_g:\n",
    "            ehat_cg = []\n",
    "            ehat_nocg = []\n",
    "            for beta in np.linspace(0.0, 360.0, 2*args.n_ring, endpoint=False):\n",
    "                gal_cg1 = gal_cg.rotate(beta*galsim.degrees).shear(g1=g1, g2=g2)\n",
    "                gal_nocg1 = gal_nocg.rotate(beta*galsim.degrees).shear(g1=g1, g2=g2)\n",
    "                obj_cg = galsim.Convolve(gal_cg1, chr_PSF)\n",
    "                obj_nocg = galsim.Convolve(gal_nocg1, chr_PSF)\n",
    "                img_cg = obj_cg.drawImage(bandpass=args.bp, nx=args.npix, ny=args.npix, scale=args.scale)\n",
    "                img_nocg = obj_nocg.drawImage(args.bp, nx=args.npix, ny=args.npix, scale=args.scale)\n",
    "                result_cg   = estimate_shape(args, img_cg, PSF_img, args.shear_est)\n",
    "                result_nocg = estimate_shape(args, img_nocg, PSF_img, args.shear_est)\n",
    "                ehat_cg.append((result_cg.e1, result_cg.e2))\n",
    "                ehat_nocg.append((result_nocg.e1, result_nocg.e2))\n",
    "            ehat_cg = np.mean(np.array(ehat_cg), axis=0)\n",
    "            ehat_cg = galsim.Shear(e1=ehat_cg[0], e2=ehat_cg[1])\n",
    "            ehat_nocg = np.mean(np.array(ehat_nocg), axis=0)\n",
    "            ehat_nocg = galsim.Shear(e1=ehat_nocg[0], e2=ehat_nocg[1])\n",
    "            ghat_cg.append(np.array(ehat_cg.g1, ehat_cg.g2))\n",
    "            ghat_nocg.append(np.array(ehat_nocg.g1, ehat_nocg.g2))\n",
    "    #print('z,galaxy FWHM (CG,noCG):',args.redshift,args.disk_SED, getFWHM(img_cg.array)*args.scale,\n",
    "          #getFWHM(img_nocg.array)*args.scale, getFWHM(PSF_img.array)*args.scale,)\n",
    "\n",
    "    #print('measured shear Galaxy with CG using{0}'.format(args.shear_est),ghat_cg)\n",
    "    #print('measured shear Galaxy with no CG using{0}'.format(args.shear_est),ghat_nocg)\n",
    "    return np.mean(np.array(ghat_cg) / np.array(ghat_nocg)) - 1.0\n",
    "\n",
    "\n",
    "\n"
   ]
  },
  {
   "cell_type": "code",
   "execution_count": 155,
   "metadata": {
    "collapsed": false
   },
   "outputs": [],
   "source": [
    "class args():\n",
    "    def __init__(self,npix=256,scale=0.2,\n",
    "                 fwhm550=0.7,alpha=-0.2,\n",
    "                 hlr_w=0.8,shear_est='REGAUSS',\n",
    "                 redshift=0.3,res=1.,\n",
    "                 disk_n=1.0,bulge_n=1.5,\n",
    "                 disk_e=0.0,bulge_e=0.0,\n",
    "                 bulge_HLR=0.17,disk_HLR=1.2,\n",
    "                 bulge_frac=0.25,n_ring=3):\n",
    "        self.npix=npix\n",
    "        self.scale=scale\n",
    "        self.fwhm550=fwhm550\n",
    "        self.bulge_HLR=bulge_HLR\n",
    "        self.disk_HLR=disk_HLR\n",
    "        self.redshift=redshift\n",
    "        self.bulge_n=bulge_n\n",
    "        self.disk_n=disk_n\n",
    "        self.bulge_e=bulge_e\n",
    "        self.disk_e=disk_e\n",
    "        self.bulge_frac=bulge_frac\n",
    "        self.disk_SED='Sbc'\n",
    "        self.bulge_SED='E'\n",
    "        self.b_SED=None\n",
    "        self.d_SED=None\n",
    "        self.c_SED=None\n",
    "        self.hlr_w=hlr_w\n",
    "        self.bp=None\n",
    "        self.shear_est=shear_est\n",
    "        self.n_ring=n_ring\n",
    "        self.alpha=alpha\n",
    "        self.res=res\n",
    "        self.T_flux=1.\n",
    "        self.rt_g=[(0.01,0.01)]"
   ]
  },
  {
   "cell_type": "code",
   "execution_count": 156,
   "metadata": {
    "collapsed": true
   },
   "outputs": [],
   "source": [
    "def getFWHM(image):\n",
    "    mx = image.max()\n",
    "    ahm =  (image > mx/2.0).sum() \n",
    "    return np.sqrt(4.0/np.pi * ahm)"
   ]
  },
  {
   "cell_type": "code",
   "execution_count": 157,
   "metadata": {
    "collapsed": false
   },
   "outputs": [],
   "source": [
    "#Minimization Function\n",
    "def fcn2min(params,data,args,mod_psf):\n",
    "    \"\"\"Function to be given as input to lmfit, to compute the difference betwen fit and\n",
    "    true galaxy(galaxy with no CG)\n",
    "    @param params  fit parameters\n",
    "    @param data    true data\n",
    "    @param args\n",
    "    @param mod_psf psf\n",
    "    @returns difference betwwen fit and true\"\"\"\n",
    "    g1   = params['g1'].value       #shear of galaxy\n",
    "    g2   = params['g2'].value       #shear of galaxy\n",
    "    rb   = params['rb'].value       #half light radius of buldge\n",
    "    rd   = params['rd'].value       #half light radius disk\n",
    "    mb_T = params['mb_T'].value     #ratio Flux of buldge to total flux\n",
    "\n",
    "    mod_bulge = galsim.Sersic(n=args.bulge_n, half_light_radius=rb,flux=mb_T)\n",
    "    mod_disk  = galsim.Sersic(n=args.disk_n, half_light_radius=rd,flux=(1-mb_T))\n",
    "    mod_gal   = ((mod_bulge+mod_disk)*args.c_SED).shear(g1=g1,g2=g2)\n",
    "    obj_con   = galsim.Convolve(mod_gal,mod_psf)\n",
    "    mod_im    = (obj_con.drawImage(bandpass=args.bp, nx=args.npix, ny=args.npix, scale=args.scale)).array\n",
    "    model1    = mod_im.flatten()\n",
    "    resid     = model1-data\n",
    "    return resid\n",
    "\n",
    "def param_in(args):\n",
    "    \"\"\"To make sure every fit gets the same initial params.Else multiple runs take parameters of previous fit\n",
    "    @param   params   parameters class for fit\n",
    "    @returns parameters with preset values\"\"\" \n",
    "    d=(1+0.001*np.random.random())\n",
    "    params = Parameters()\n",
    "    params.add('g1', value= (args.rt_g[0][0])*d,  vary=True,min=-0.25, max=0.25)\n",
    "    params.add('g2', value= (args.rt_g[0][1])*d,  vary=True,min=-0.25,max=0.25)\n",
    "    params.add('rb', value= args.bulge_HLR*d ,   vary=True,min=0.,max=0.2)\n",
    "    params.add('rd', value= args.disk_HLR*d,    vary=True,min=0.,max=2.)\n",
    "    params.add('mb_T', value= args.bulge_frac*d, vary=True,min=0,max=1)\n",
    "    return params"
   ]
  },
  {
   "cell_type": "code",
   "execution_count": 158,
   "metadata": {
    "collapsed": false
   },
   "outputs": [],
   "source": [
    "\n",
    "def calc_cg_bias(args):\n",
    "    \"\"\"To claculate multiplicative bias due to CG \"\"\"\n",
    "    args.b_SED,args.d_SED,args.c_SED= get_SEDs(args)\n",
    "    args.bp  = get_LSST_filter()['r']\n",
    "    chr_psf  = get_PSF(args)\n",
    "    gal_cg   = get_gal_cg(args)\n",
    "    gal_nocg = get_gal_nocg(args, gal_cg, chr_psf)\n",
    "    con_nocg=(galsim.Convolve(gal_nocg,chr_psf))\n",
    "    m = cg_ring_test(args, gal_cg, gal_nocg, chr_psf)\n",
    "    return m"
   ]
  },
  {
   "cell_type": "code",
   "execution_count": 124,
   "metadata": {
    "collapsed": false
   },
   "outputs": [
    {
     "ename": "IndentationError",
     "evalue": "unexpected indent (<ipython-input-124-b6f0d5e40f4c>, line 9)",
     "output_type": "error",
     "traceback": [
      "\u001b[0;36m  File \u001b[0;32m\"<ipython-input-124-b6f0d5e40f4c>\"\u001b[0;36m, line \u001b[0;32m9\u001b[0m\n\u001b[0;31m    b_SED=red_SED.atRedshift(redshift)#.withFlux(bandpass=eu_filter,target_flux=1)\u001b[0m\n\u001b[0m    ^\u001b[0m\n\u001b[0;31mIndentationError\u001b[0m\u001b[0;31m:\u001b[0m unexpected indent\n"
     ]
    }
   ],
   "source": [
    "x[redshift]=np.linspace(200,1000,40)\n",
    "for i in x[redshift]:\n",
    "    bulge_y[redshift].append(b_SED(i))\n",
    "    disc_y[redshift].append(d_SED(i))\n",
    "    comp_y[redshift].append(c_SED(i))\n",
    "    fil_y[redshift].append(filter(i))\n",
    "\n",
    "    bulge_y[redshift],disc_y[redshift],comp_y[redshift],fil_y[redshift]=[],[],[],[]\n",
    "        b_SED=red_SED.atRedshift(redshift)#.withFlux(bandpass=eu_filter,target_flux=1)\n",
    "        d_SED=blue_SED.atRedshift(redshift)#.withFlux(bandpass=eu_filter,target_flux=1)\n",
    "        c_SED=(t_b_flux*b_SED +((1-t_b_flux)*d_SED))\n",
    "data['x'],data['bulge'],data['disk'],data['comp'],data['filt']=x,bulge_y,disc_y,comp_y,fil_y\n",
    "names=['x','bulge','disk','comp','filt']\n",
    "titles=['Redshift={0};n_b={1}'.format(k,t_b_flux) for k in redshifts]\n",
    "colors=['b','r','g','--k']"
   ]
  },
  {
   "cell_type": "code",
   "execution_count": 14,
   "metadata": {
    "collapsed": false
   },
   "outputs": [],
   "source": [
    "input_regauss=args(shear_est='REGAUSS',redshift=0)\n",
    "a=get_LSST_filter()"
   ]
  },
  {
   "cell_type": "code",
   "execution_count": 16,
   "metadata": {
    "collapsed": false
   },
   "outputs": [
    {
     "ename": "TypeError",
     "evalue": "unsupported operand type(s) for +: 'dict' and 'dict'",
     "output_type": "error",
     "traceback": [
      "\u001b[0;31m---------------------------------------------------------------------------\u001b[0m",
      "\u001b[0;31mTypeError\u001b[0m                                 Traceback (most recent call last)",
      "\u001b[0;32m<ipython-input-16-3965e6056f29>\u001b[0m in \u001b[0;36m<module>\u001b[0;34m()\u001b[0m\n\u001b[0;32m----> 1\u001b[0;31m \u001b[0mnew\u001b[0m\u001b[0;34m=\u001b[0m\u001b[0ma\u001b[0m\u001b[0;34m+\u001b[0m\u001b[0ma\u001b[0m\u001b[0;34m\u001b[0m\u001b[0m\n\u001b[0m",
      "\u001b[0;31mTypeError\u001b[0m: unsupported operand type(s) for +: 'dict' and 'dict'"
     ]
    }
   ],
   "source": [
    "new=a+a"
   ]
  },
  {
   "cell_type": "code",
   "execution_count": 31,
   "metadata": {
    "collapsed": false
   },
   "outputs": [],
   "source": [
    "m_z_regaus, m_z_sem, m_z_fit =[],[],[]\n",
    "redshifts=np.linspace(0.,1.2,20)\n",
    "for z in redshifts:\n",
    "    input_regauss=args(shear_est='REGAUSS',redshift=z)\n",
    "    input_sem    =args(shear_est='S13',redshift=z)\n",
    "    input_fit    =args(shear_est='fit',redshift=z)\n",
    "    m_z_regaus.append(calc_cg_bias2(input_regauss))\n",
    "    #m_z_sem.append(calc_cg_bias(input_sem))\n",
    "    m_z_fit.append(calc_cg_bias2(input_fit))"
   ]
  },
  {
   "cell_type": "code",
   "execution_count": 35,
   "metadata": {
    "collapsed": false
   },
   "outputs": [
    {
     "data": {
      "text/plain": [
       "<matplotlib.text.Text at 0x1180c1a10>"
      ]
     },
     "execution_count": 35,
     "metadata": {},
     "output_type": "execute_result"
    },
    {
     "data": {
      "image/png": "[encoded data removed]",
      "text/plain": [
       "<matplotlib.figure.Figure at 0x117dbaa50>"
      ]
     },
     "metadata": {},
     "output_type": "display_data"
    }
   ],
   "source": [
    "plt.plot(redshifts,np.abs(m_z_regaus),label='Moment Based')\n",
    "plt.plot(redshifts, np.abs(m_z_fit),label='fit')\n",
    "plt.legend(bbox_to_anchor=(1.05, 1), loc=2, borderaxespad=0.)\n",
    "plt.title('')"
   ]
  },
  {
   "cell_type": "code",
   "execution_count": 87,
   "metadata": {
    "collapsed": false
   },
   "outputs": [
    {
     "name": "stdout",
     "output_type": "stream",
     "text": [
      "6.49661728126e-08\n",
      "0.0037342990005\n",
      "6.49800517157e-08\n",
      "90.4097069201\n",
      "6.49746209932e-08\n",
      "546.043092034\n",
      "6.49699095865e-08\n",
      "0.00373429903129\n",
      "6.4982963857e-08\n",
      "90.409708079\n",
      "6.49929301515e-08\n",
      "546.043098948\n",
      "6.49773724969e-08\n",
      "0.00373429927456\n",
      "6.49677172945e-08\n",
      "90.409706782\n",
      "6.49813950426e-08\n",
      "546.043089841\n",
      "6.49834967274e-08\n",
      "0.00373429926877\n",
      "6.49702887511e-08\n",
      "90.4097075212\n",
      "6.49719321996e-08\n",
      "546.043092855\n",
      "6.49621296173e-08\n",
      "0.00373429883014\n",
      "6.49662461777e-08\n",
      "90.4097066996\n",
      "6.49814093201e-08\n",
      "546.043093396\n",
      "6.49703719103e-08\n",
      "0.00373429908757\n",
      "6.49811144728e-08\n",
      "90.4097066694\n",
      "6.49747696581e-08\n",
      "546.043092107\n"
     ]
    }
   ],
   "source": [
    "m_z_regaus2, m_z_sem2, m_z_fit2 =[],[],[]\n",
    "redshifts=np.linspace(0.,1.2,3)\n",
    "for z in redshifts:\n",
    "    input_regauss2=args(shear_est='REGAUSS',npix=300)\n",
    "    input_sem2    =args(shear_est='S13')\n",
    "    input_fit2    =args(shear_est='fit',npix=300)\n",
    "    m_z_regaus2.append(calc_cg_bias(input_regauss2))\n",
    "    #m_z_sem2.append(calc_cg_bias(input_sem))\n",
    "    m_z_fit2.append(calc_cg_bias(input_fit2))"
   ]
  },
  {
   "cell_type": "code",
   "execution_count": 81,
   "metadata": {
    "collapsed": false
   },
   "outputs": [
    {
     "data": {
      "text/plain": [
       "<matplotlib.text.Text at 0x117eb0c90>"
      ]
     },
     "execution_count": 81,
     "metadata": {},
     "output_type": "execute_result"
    },
    {
     "data": {
      "image/png": "[encoded data removed]",
      "text/plain": [
       "<matplotlib.figure.Figure at 0x118f8f550>"
      ]
     },
     "metadata": {},
     "output_type": "display_data"
    }
   ],
   "source": [
    "plt.plot(redshifts,np.abs(m_z_regaus2),label='Moment Based')\n",
    "plt.plot(redshifts, np.abs(m_z_fit2),label='fit')\n",
    "plt.legend(bbox_to_anchor=(1.05, 1), loc=2, borderaxespad=0.)\n",
    "plt.title('')"
   ]
  },
  {
   "cell_type": "code",
   "execution_count": null,
   "metadata": {
    "collapsed": false
   },
   "outputs": [],
   "source": [
    "m_z_regaus, m_z_sem, m_z_fit =[],[],[]\n",
    "redshifts=np.linspace(0.,1.2,8)\n",
    "for z in redshifts:\n",
    "    input_regauss=args(shear_est='REGAUSS',redshift=z)\n",
    "    input_sem    =args(shear_est='S13',redshift=z)\n",
    "    input_fit    =args(shear_est='fit',redshift=z)\n",
    "    m_z_regaus.append(calc_cg_bias2(input_regauss))\n",
    "    m_z_sem.append(calc_cg_bias2(input_sem))\n",
    "    m_z_fit.append(calc_cg_bias2(input_fit))"
   ]
  },
  {
   "cell_type": "code",
   "execution_count": null,
   "metadata": {
    "collapsed": false
   },
   "outputs": [],
   "source": [
    "b_fracs=[0.05,0.15,0.25,0.35,0.45]\n",
    "redshifts=np.linspace(0.,1.2,8)\n",
    "fig=plt.figure(figsize=[14,12])\n",
    "fig.subplots_adjust(left=0.2, wspace=0.6)\n",
    "for b_frac in b_fracs:\n",
    "    m_b_frac_reg=[]\n",
    "    m_b_frac_s13=[]\n",
    "    m_b_frac_fit=[]\n",
    "    m_b_frac_fit2=[]   \n",
    "    for z in redshifts:\n",
    "        input_regauss=args(shear_est='REGAUSS',redshift=z,bulge_frac=b_frac)\n",
    "        input_fit    =args(shear_est='fit'    ,redshift=z,bulge_frac=b_frac)\n",
    "        m_b_frac_reg.append(calc_cg_bias2(input_regauss))\n",
    "        m_b_frac_fit.append(calc_cg_bias2(input_fit))\n",
    "    ax1 = fig.add_subplot(221)\n",
    "    ax1.plot(redshifts,np.absolute(m_b_frac_reg),label='e_bulge={}'.format(b_frac))\n",
    "    ax1.set_xlabel('redshift')\n",
    "    ax1.set_ylabel('|m| with REGAUSS')\n",
    "    ax2 = fig.add_subplot(222)\n",
    "    ax2.plot(redshifts,np.absolute(m_b_frac_fit),label='e_bulge={}'.format(b_frac))\n",
    "    ax2.set_xlabel('redshift')\n",
    "    ax2.set_ylabel('|m| with fit')\n",
    "    \n",
    "ax1.legend(bbox_to_anchor=(1.05, 1), loc=2, borderaxespad=0.)\n",
    "ax2.legend(bbox_to_anchor=(1.05, 1), loc=2, borderaxespad=0.)"
   ]
  },
  {
   "cell_type": "code",
   "execution_count": null,
   "metadata": {
    "collapsed": true
   },
   "outputs": [],
   "source": []
  },
  {
   "cell_type": "code",
   "execution_count": 88,
   "metadata": {
    "collapsed": true
   },
   "outputs": [],
   "source": [
    "m_z_im, m_z_sb, m_z_sc =[],[],[]\n",
    "redshifts=np.linspace(0.,1.2,10)\n",
    "for z in redshifts:\n",
    "    input_p  =  args(shear_est='REGAUSS',redshift=z)\n",
    "    input_p.disk_SED='Sbc'\n",
    "    m_z_sb.append(calc_cg_bias(input_p))\n",
    "    input_p  =  args(shear_est='REGAUSS',redshift=z)\n",
    "    input_p.disk_SED='Scd'\n",
    "    m_z_sc.append(calc_cg_bias(input_p))\n",
    "    input_p  =  args(shear_est='REGAUSS',redshift=z)\n",
    "    input_p.disk_SED='Im'\n",
    "    m_z_im.append(calc_cg_bias(input_p))\n"
   ]
  },
  {
   "cell_type": "code",
   "execution_count": 91,
   "metadata": {
    "collapsed": false
   },
   "outputs": [
    {
     "data": {
      "text/plain": [
       "<matplotlib.text.Text at 0x118495390>"
      ]
     },
     "execution_count": 91,
     "metadata": {},
     "output_type": "execute_result"
    },
    {
     "data": {
      "image/png": "[encoded data removed]",
      "text/plain": [
       "<matplotlib.figure.Figure at 0x1189f4590>"
      ]
     },
     "metadata": {},
     "output_type": "display_data"
    }
   ],
   "source": [
    "plt.plot(redshifts,np.abs(m_z_im),label='Irregular')\n",
    "plt.plot(redshifts, np.abs(m_z_sb),label='Sb')\n",
    "plt.plot(redshifts, np.abs(m_z_sc),label='Sc')\n",
    "plt.legend(bbox_to_anchor=(1.05, 1), loc=2, borderaxespad=0.)\n",
    "plt.title('Bias for different disk SED; bulge SED: E')\n",
    "plt.ylabel('|m|',size=16)\n",
    "plt.xlabel('redshift',size=16)"
   ]
  },
  {
   "cell_type": "code",
   "execution_count": 159,
   "metadata": {
    "collapsed": true
   },
   "outputs": [],
   "source": [
    "class args():\n",
    "    def __init__(self,npix=256,scale=0.2,\n",
    "                 fwhm550=0.7,alpha=-0.2,\n",
    "                 hlr_w=0.8,shear_est='REGAUSS',\n",
    "                 redshift=0.3,res=1.,\n",
    "                 disk_n=1.0,bulge_n=1.5,\n",
    "                 disk_e=0.0,bulge_e=0.0,\n",
    "                 bulge_HLR=0.17,disk_HLR=0.6,\n",
    "                 bulge_frac=0.25,n_ring=3):\n",
    "        self.npix=npix\n",
    "        self.scale=scale\n",
    "        self.fwhm550=fwhm550\n",
    "        self.bulge_HLR=bulge_HLR\n",
    "        self.disk_HLR=disk_HLR\n",
    "        self.redshift=redshift\n",
    "        self.bulge_n=bulge_n\n",
    "        self.disk_n=disk_n\n",
    "        self.bulge_e=bulge_e\n",
    "        self.disk_e=disk_e\n",
    "        self.bulge_frac=bulge_frac\n",
    "        self.disk_SED='Sbc'\n",
    "        self.bulge_SED='E'\n",
    "        self.b_SED=None\n",
    "        self.d_SED=None\n",
    "        self.c_SED=None\n",
    "        self.hlr_w=hlr_w\n",
    "        self.bp=None\n",
    "        self.shear_est=shear_est\n",
    "        self.n_ring=n_ring\n",
    "        self.alpha=alpha\n",
    "        self.res=res\n",
    "        self.T_flux=1.\n",
    "        self.rt_g=[(0.01,0.01)]"
   ]
  },
  {
   "cell_type": "code",
   "execution_count": null,
   "metadata": {
    "collapsed": false
   },
   "outputs": [],
   "source": [
    "m_z_im, m_z_sb, m_z_sc =[],[],[]\n",
    "redshifts=np.linspace(0.,1.2,30)\n",
    "for z in redshifts:\n",
    "    input_p  =  args(shear_est='REGAUSS',redshift=z)\n",
    "    input_p.disk_SED='Sbc'\n",
    "    m_z_sb.append(calc_cg_bias(input_p))\n",
    "    input_p  =  args(shear_est='REGAUSS',redshift=z)\n",
    "    input_p.disk_SED='Scd'\n",
    "    m_z_sc.append(calc_cg_bias(input_p))\n",
    "    input_p  =  args(shear_est='REGAUSS',redshift=z)\n",
    "    input_p.disk_SED='Im'\n",
    "    m_z_im.append(calc_cg_bias(input_p))\n",
    "\n"
   ]
  },
  {
   "cell_type": "code",
   "execution_count": 145,
   "metadata": {
    "collapsed": false
   },
   "outputs": [
    {
     "name": "stdout",
     "output_type": "stream",
     "text": [
      "('z,galaxy FWHM (CG,noCG):', 0.0, 'Sbc', 0.90270333367641009, 0.90270333367641009, 0.78176401904467197)\n",
      "('z,galaxy FWHM (CG,noCG):', 0.0, 'Scd', 0.90270333367641009, 0.90270333367641009, 0.78176401904467197)\n",
      "('z,galaxy FWHM (CG,noCG):', 0.0, 'Im', 0.90270333367641009, 0.90270333367641009, 0.78176401904467197)\n",
      "('z,galaxy FWHM (CG,noCG):', 1.2, 'Sbc', 1.1055812783082737, 1.1055812783082737, 0.78176401904467197)\n",
      "('z,galaxy FWHM (CG,noCG):', 1.2, 'Scd', 1.1507254783503185, 1.1507254783503185, 0.78176401904467197)\n",
      "('z,galaxy FWHM (CG,noCG):', 1.2, 'Im', 1.2766152972845848, 1.2766152972845848, 0.78176401904467197)\n"
     ]
    }
   ],
   "source": [
    "m_z_im, m_z_sb, m_z_sc =[],[],[]\n",
    "redshifts=np.linspace(0.,1.2,2)\n",
    "for z in redshifts:\n",
    "    input_p  =  args(shear_est='REGAUSS',redshift=z)\n",
    "    input_p.disk_SED='Sbc'\n",
    "    m_z_sb.append(calc_cg_bias(input_p))\n",
    "    input_p  =  args(shear_est='REGAUSS',redshift=z)\n",
    "    input_p.disk_SED='Scd'\n",
    "    m_z_sc.append(calc_cg_bias(input_p))\n",
    "    input_p  =  args(shear_est='REGAUSS',redshift=z)\n",
    "    input_p.disk_SED='Im'\n",
    "    m_z_im.append(calc_cg_bias(input_p))\n",
    "\n",
    "\n"
   ]
  },
  {
   "cell_type": "code",
   "execution_count": null,
   "metadata": {
    "collapsed": false
   },
   "outputs": [],
   "source": [
    "plt.plot(redshifts,np.abs(m_z_im),label='Irregular')\n",
    "plt.plot(redshifts, np.abs(m_z_sb),label='Sb')\n",
    "plt.plot(redshifts, np.abs(m_z_sc),label='Sc')\n",
    "plt.legend(bbox_to_anchor=(1.05, 1), loc=2, borderaxespad=0.)\n",
    "plt.title('Bias for different disk SED; bulge SED: E')\n",
    "plt.ylabel('|m|',size=16)\n",
    "plt.xlabel('redshift',size=16)"
   ]
  },
  {
   "cell_type": "code",
   "execution_count": 152,
   "metadata": {
    "collapsed": false
   },
   "outputs": [
    {
     "data": {
      "text/plain": [
       "0.84"
      ]
     },
     "execution_count": 152,
     "metadata": {},
     "output_type": "execute_result"
    }
   ],
   "source": [
    "0.6*1.4\n"
   ]
  },
  {
   "cell_type": "code",
   "execution_count": null,
   "metadata": {
    "collapsed": true
   },
   "outputs": [],
   "source": []
  }
 ],
 "metadata": {
  "kernelspec": {
   "display_name": "Python 2",
   "language": "python",
   "name": "python2"
  },
  "language_info": {
   "codemirror_mode": {
    "name": "ipython",
    "version": 2
   },
   "file_extension": ".py",
   "mimetype": "text/x-python",
   "name": "python",
   "nbconvert_exporter": "python",
   "pygments_lexer": "ipython2",
   "version": "2.7.10"
  }
 },
 "nbformat": 4,
 "nbformat_minor": 0
}
